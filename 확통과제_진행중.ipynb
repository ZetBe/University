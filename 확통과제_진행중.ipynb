{
  "nbformat": 4,
  "nbformat_minor": 0,
  "metadata": {
    "colab": {
      "provenance": [],
      "authorship_tag": "ABX9TyNwAKlTOvO7tR4xMGC3liJI",
      "include_colab_link": true
    },
    "kernelspec": {
      "name": "python3",
      "display_name": "Python 3"
    },
    "language_info": {
      "name": "python"
    }
  },
  "cells": [
    {
      "cell_type": "markdown",
      "metadata": {
        "id": "view-in-github",
        "colab_type": "text"
      },
      "source": [
        "<a href=\"https://colab.research.google.com/github/ZetBe/python/blob/main/%ED%99%95%ED%86%B5%EA%B3%BC%EC%A0%9C_%EC%A7%84%ED%96%89%EC%A4%91.ipynb\" target=\"_parent\"><img src=\"https://colab.research.google.com/assets/colab-badge.svg\" alt=\"Open In Colab\"/></a>"
      ]
    },
    {
      "cell_type": "code",
      "execution_count": null,
      "metadata": {
        "id": "y96zTN8hCb6q"
      },
      "outputs": [],
      "source": [
        "import matplotlib.pyplot as plt\n",
        "import numpy as np\n",
        "import math\n",
        "from scipy import stats\n"
      ]
    },
    {
      "cell_type": "code",
      "source": [
        "import matplotlib.pyplot as plt\n",
        "import numpy as np\n",
        "import math\n",
        "from scipy import stats\n",
        "\n",
        "#1번\n",
        "x, y = 20, 7\n",
        "answer = math.sqrt((x**3+(y**2)*4)/((x+y)*(x-y)))\n",
        "print(answer)\n"
      ],
      "metadata": {
        "colab": {
          "base_uri": "https://localhost:8080/"
        },
        "id": "qSy0DsXoDEbx",
        "outputId": "6fd5985c-a07f-4427-ca83-096b6f231c56"
      },
      "execution_count": 3,
      "outputs": [
        {
          "output_type": "stream",
          "name": "stdout",
          "text": [
            "4.832227990319512\n"
          ]
        }
      ]
    },
    {
      "cell_type": "code",
      "source": [
        "import matplotlib.pyplot as plt\n",
        "import numpy as np\n",
        "import math\n",
        "from scipy import stats\n",
        "#2번\n",
        "#a.\n",
        "x = np.array([2, 9, 8, 12, 7, 5, 14, 3, 11, 17])\n",
        "#b.\n",
        "y = x**2 - 3\n",
        "print(y)\n",
        "#c.\n",
        "correlation = np.corrcoef(x, y)\n",
        "covariance = np.cov(x, y)[0, 1]\n",
        "print(correlation)\n",
        "print(covariance)"
      ],
      "metadata": {
        "colab": {
          "base_uri": "https://localhost:8080/"
        },
        "id": "qUNzTPh5DngW",
        "outputId": "c99cb09a-f449-42c3-edac-60e6fadc4bc6"
      },
      "execution_count": 8,
      "outputs": [
        {
          "output_type": "stream",
          "name": "stdout",
          "text": [
            "[  1  78  61 141  46  22 193   6 118 286]\n",
            "[[1.         0.96988245]\n",
            " [0.96988245 1.        ]]\n",
            "424.26666666666665\n"
          ]
        }
      ]
    },
    {
      "cell_type": "code",
      "source": [
        "import matplotlib.pyplot as plt\n",
        "import numpy as np\n",
        "import math\n",
        "from scipy import stats\n",
        "#3번\n",
        "x = np.arange(-10, 21)\n",
        "y = (math.e**(-1*((x-3)**2)/8))/(2*math.sqrt(2*math.pi))\n",
        "plt.plot(x, y, 'b', label='quick')\n",
        "plt.show()"
      ],
      "metadata": {
        "colab": {
          "base_uri": "https://localhost:8080/",
          "height": 265
        },
        "id": "OTIej-vHHqp2",
        "outputId": "533a5fab-a542-4724-f5dc-f6629322b89c"
      },
      "execution_count": 9,
      "outputs": [
        {
          "output_type": "display_data",
          "data": {
            "text/plain": [
              "<Figure size 432x288 with 1 Axes>"
            ],
            "image/png": "[encoded data removed]"
          },
          "metadata": {
            "needs_background": "light"
          }
        }
      ]
    },
    {
      "cell_type": "code",
      "source": [
        "import matplotlib.pyplot as plt\n",
        "import numpy as np\n",
        "import math\n",
        "from scipy import stats\n",
        "#4번\n",
        "x = np.random.uniform(-3, 5, size=1000)\n",
        "#a.\n",
        "aver = np.mean(x)\n",
        "std = np.std(x)\n",
        "print(aver, std)\n",
        "#b.\n",
        "bins = np.arange(-3, 5, 0.25)  # 도수분포구간\n",
        "hist, bins = np.histogram(x, bins)\n",
        "plt.hist(x, bins, rwidth=0.5)\n",
        "plt.show()"
      ],
      "metadata": {
        "colab": {
          "base_uri": "https://localhost:8080/",
          "height": 284
        },
        "id": "i9EUGu2zJkrv",
        "outputId": "c8d17edd-564a-42c9-cc07-c90425499044"
      },
      "execution_count": 23,
      "outputs": [
        {
          "output_type": "stream",
          "name": "stdout",
          "text": [
            "0.9172744024889831 2.3593954300607325\n"
          ]
        },
        {
          "output_type": "display_data",
          "data": {
            "text/plain": [
              "<Figure size 432x288 with 1 Axes>"
            ],
            "image/png": "[encoded data removed]"
          },
          "metadata": {
            "needs_background": "light"
          }
        }
      ]
    },
    {
      "cell_type": "code",
      "source": [
        "import matplotlib.pyplot as plt\n",
        "import numpy as np\n",
        "import math\n",
        "from scipy import stats\n"
      ],
      "metadata": {
        "id": "qyhIqxJAO2wi"
      },
      "execution_count": null,
      "outputs": []
    }
  ]
}